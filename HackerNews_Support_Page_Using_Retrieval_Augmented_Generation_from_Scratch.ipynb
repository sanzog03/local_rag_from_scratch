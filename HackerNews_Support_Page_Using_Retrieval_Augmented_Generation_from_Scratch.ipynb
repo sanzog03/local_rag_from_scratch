{
  "cells": [
    {
      "cell_type": "markdown",
      "metadata": {
        "id": "LbEJmXIlqdNr"
      },
      "source": [
        "# Data preparation/Chunking"
      ]
    },
    {
      "cell_type": "code",
      "execution_count": 2,
      "metadata": {
        "id": "CpHd5jG5qdNs",
        "outputId": "bad25379-6db7-4540-f7d8-35f8c9edc71b"
      },
      "outputs": [
        {
          "name": "stdout",
          "output_type": "stream",
          "text": [
            "faq.json\n"
          ]
        }
      ],
      "source": [
        "!ls data"
      ]
    },
    {
      "cell_type": "code",
      "execution_count": 3,
      "metadata": {
        "id": "UIXWgjxxqdNs"
      },
      "outputs": [
        {
          "name": "stderr",
          "output_type": "stream",
          "text": [
            "/Users/sthapa/Devs/rag/.venv/lib/python3.9/site-packages/urllib3/__init__.py:35: NotOpenSSLWarning: urllib3 v2 only supports OpenSSL 1.1.1+, currently the 'ssl' module is compiled with 'LibreSSL 2.8.3'. See: https://github.com/urllib3/urllib3/issues/3020\n",
            "  warnings.warn(\n",
            "/Users/sthapa/Devs/rag/.venv/lib/python3.9/site-packages/tqdm/auto.py:21: TqdmWarning: IProgress not found. Please update jupyter and ipywidgets. See https://ipywidgets.readthedocs.io/en/stable/user_install.html\n",
            "  from .autonotebook import tqdm as notebook_tqdm\n"
          ]
        }
      ],
      "source": [
        "import json\n",
        "import os\n",
        "import spacy\n",
        "import faiss\n",
        "from sentence_transformers import SentenceTransformer\n",
        "import re"
      ]
    },
    {
      "cell_type": "markdown",
      "metadata": {},
      "source": [
        "### Chunking using: spacy and en_core_web_sm"
      ]
    },
    {
      "cell_type": "code",
      "execution_count": 4,
      "metadata": {
        "id": "3_jekn5iqdNt"
      },
      "outputs": [],
      "source": [
        "nlp = spacy.load(\"en_core_web_sm\")\n",
        "\n",
        "def process_file(file_path):\n",
        "    with open(file_path) as f:\n",
        "        data = json.load(f)\n",
        "        content = data[\"content\"]\n",
        "        url = data[\"url\"]\n",
        "        doc = nlp(content)\n",
        "\n",
        "        return [{\"text\": sent.text, \"url\": url} for sent in doc.sents]\n",
        "\n",
        "chunks = [\n",
        "    chunk\n",
        "    for file in os.listdir(\"data\")\n",
        "    for chunk in process_file(os.path.join(\"data\", file))\n",
        "]\n",
        "\n",
        "chunks = [{\"id\": i, **chunk} for i, chunk in enumerate(chunks)]\n",
        "\n",
        "with open(\"chunks.json\", \"w\") as f:\n",
        "    json.dump(chunks, f)"
      ]
    },
    {
      "cell_type": "markdown",
      "metadata": {
        "id": "juLmch1vqdNt"
      },
      "source": [
        "# Vector store"
      ]
    },
    {
      "cell_type": "markdown",
      "metadata": {},
      "source": [
        "### vector embedding using: all_mpnet_base_v2 sentence_transformer"
      ]
    },
    {
      "cell_type": "code",
      "execution_count": 5,
      "metadata": {
        "id": "PIyJV8q6qdNt"
      },
      "outputs": [
        {
          "name": "stderr",
          "output_type": "stream",
          "text": [
            "Batches: 100%|██████████| 4/4 [00:00<00:00,  5.70it/s]\n"
          ]
        }
      ],
      "source": [
        "sentences = [chunk[\"text\"] for chunk in chunks]\n",
        "\n",
        "model = SentenceTransformer(\"sentence-transformers/all-mpnet-base-v2\")\n",
        "\n",
        "embeddings = model.encode(sentences, show_progress_bar=True)"
      ]
    },
    {
      "cell_type": "code",
      "execution_count": 6,
      "metadata": {},
      "outputs": [
        {
          "data": {
            "text/plain": [
              "array([[ 0.09477425, -0.01864169,  0.00911164, ..., -0.04637649,\n",
              "         0.00228056,  0.01923566],\n",
              "       [ 0.03039058, -0.03222821, -0.03873111, ..., -0.0035764 ,\n",
              "         0.00579478, -0.0339357 ],\n",
              "       [ 0.05490492, -0.06632555,  0.0165215 , ..., -0.02763968,\n",
              "        -0.00135091, -0.00359141],\n",
              "       ...,\n",
              "       [ 0.02805713, -0.06807668, -0.02322498, ..., -0.0072787 ,\n",
              "        -0.00197908,  0.00630819],\n",
              "       [-0.0140816 ,  0.02815344,  0.00403775, ...,  0.03194111,\n",
              "        -0.01472967,  0.02749774],\n",
              "       [ 0.01043997,  0.01733964, -0.02638827, ..., -0.0227873 ,\n",
              "        -0.03920399, -0.04961954]], dtype=float32)"
            ]
          },
          "execution_count": 6,
          "metadata": {},
          "output_type": "execute_result"
        }
      ],
      "source": [
        "embeddings"
      ]
    },
    {
      "cell_type": "code",
      "execution_count": 7,
      "metadata": {
        "id": "q-G4xA4zqdNt"
      },
      "outputs": [],
      "source": [
        "faiss_index = faiss.IndexFlatIP(model.get_sentence_embedding_dimension())\n",
        "faiss_index.add(embeddings)"
      ]
    },
    {
      "cell_type": "markdown",
      "metadata": {
        "id": "C7ukxotUqdNt"
      },
      "source": [
        "# Retrieval/Prompt preparation"
      ]
    },
    {
      "cell_type": "code",
      "execution_count": 8,
      "metadata": {
        "id": "ItqK_PNQqdNt"
      },
      "outputs": [],
      "source": [
        "base_prompt = \"\"\"You are an AI assistant. Your task is to understand the user question, and provide an answer using the provided contexts. Every answer you generate should have citations in this pattern  \"Answer [position].\", for example: \"Earth is round [1][2].,\" if it's relevant.\n",
        "\n",
        "Your answers are correct, high-quality, and written by an domain expert. If the provided context does not contain the answer, simply state, \"The provided contexts does not have the answer.\"\n",
        "\n",
        "User question: {}\n",
        "\n",
        "Contexts:\n",
        "{}\n",
        "\"\"\""
      ]
    },
    {
      "cell_type": "code",
      "execution_count": 9,
      "metadata": {
        "id": "XZoA6CBhqdNt"
      },
      "outputs": [],
      "source": [
        "k = 50\n",
        "question = \"Why HackerNews is so popular?\"\n",
        "\n",
        "query_embedding = model.encode([question])\n",
        "distances, indices = faiss_index.search(query_embedding, k)\n",
        "\n",
        "context = \"\\n\".join([f\"{i}. {sentences[index]}\" for i, index in enumerate(indices[0])])\n",
        "prompt = f\"{base_prompt.format(question, context)}\""
      ]
    },
    {
      "cell_type": "code",
      "execution_count": 10,
      "metadata": {},
      "outputs": [
        {
          "name": "stdout",
          "output_type": "stream",
          "text": [
            "0. Hacker News FAQ\n",
            "\n",
            "Are there rules about submissions and comments?https://news.ycombinator.com/newsguidelines.html\n",
            "How are stories ranked?\n",
            "\n",
            "1. HN gives three features to YC: job ads (see above) and startup launches get placed on the front page, and YC founder names are displayed to other YC alumni in orange.\n",
            "\n",
            "2. It's a way to help you prevent yourself from spending too much time on HN.\n",
            "3. Users should vote for a story because they personally find it intellectually interesting, not because someone has content to promote.\n",
            "4. We don't want anyone to get in trouble from anything they posted to HN.\n",
            "5. Why is A ranked below B even though A has more points and is newer?\n",
            "\n",
            "6. These appear on the front page, but are not stories: they have no vote arrows, points, or comments.\n",
            "7. Other factors affecting rank include user flags, anti-abuse software, software which demotes overheated discussions, account or site weighting, and moderator action.\n",
            "\n",
            "8. http://news.ycombinator.com/formatdoc\n",
            "\n",
            "9. Some votes are dropped by anti-abuse software.\n",
            "\n",
            "10. Roughly, the number of upvotes on their posts minus the number of downvotes.\n",
            "11. If you request many pages quickly, your IP address might get banned.\n",
            "12. The good will of the community is worth more than any story.\n",
            "\n",
            "13. Others still see it.\n",
            "\n",
            "14. But please don't post complaints about paywalls.\n",
            "15. The basic algorithm divides points by a power of the time since a story was submitted.\n",
            "16. It's ok to post stories from sites with paywalls that have workarounds.\n",
            "\n",
            "17. Only one is on the front page at a time.\n",
            "18. See \"How are stories ranked?\" above.\n",
            "\n",
            "19. How can I unban it?\n",
            "\n",
            "20. Another kind of job ad is reserved for YC-funded startups.\n",
            "21. This prevents a race to post it first.\n",
            "\n",
            "22. Click on its timestamp to go to its page, then click 'vouch' at the top.\n",
            "23. Are paywalls ok?\n",
            "\n",
            "24. Are negative stories about YC suppressed on HN?\n",
            "No, we moderate less, not more, when YC or a YC startup is the topic.\n",
            "25. It gives you time to edit your comments before they appear to others.\n",
            "26. Comments in threads are ranked the same way.\n",
            "\n",
            "27. Otherwise we bury reposts as duplicates.\n",
            "\n",
            "28. If you turn it on you'll only be allowed to visit the site for maxvisit minutes at a time, with gaps of minaway minutes in between.\n",
            "29. Show HN is for sharing your personal work and has special rules.\n",
            "\n",
            "30. It's also not in your interest: HN readers are sensitive to this and will detect it, flag it, and use unkind words like 'spam'.\n",
            "\n",
            "31. How is a user's karma calculated?\n",
            "\n",
            "32. What do green usernames mean?\n",
            "\n",
            "33. Users flagged the post as breaking the guidelines or otherwise not belonging on HN.\n",
            "\n",
            "34. Are reposts ok?\n",
            "If a story has not had significant attention in the last year or so, a small number of reposts is ok.\n",
            "35. What's the relationship between YC and HN?\n",
            "Y Combinator owns and funds HN.\n",
            "36. My IP address seems to be banned.\n",
            "37. They remove a submission from your personal view.\n",
            "38. Most job ads are welcome there.\n",
            "39. In my profile, what is noprocrast?\n",
            "\n",
            "40. Please don't post job ads as submissions to HN.\n",
            "\n",
            "41. In my profile, what is delay?\n",
            "\n",
            "42. This is to prevent people from submitting a link with their comments in a privileged position at the top of the page.\n",
            "43. Only an account called whoishiring is allowed to submit the thread itself.\n",
            "44. Email hn@ycombinator.com\n",
            "45. How do I submit a poll?\n",
            "http://news.ycombinator.com/newpoll\n",
            "How do I make a link in a text submission?\n",
            "\n",
            "46. Green indicates a new account.\n",
            "\n",
            "47. A regular \"Who Is Hiring?\" thread appears on the first weekday of each month (or Jan 2).\n",
            "48. Those are off topic.\n",
            "49. However, we care about protecting individual users and take care of privacy requests every day, so if we can help, please email hn@ycombinator.com.\n",
            "--------------------------------\n",
            "You are an AI assistant. Your task is to understand the user question, and provide an answer using the provided contexts. Every answer you generate should have citations in this pattern  \"Answer [position].\", for example: \"Earth is round [1][2].,\" if it's relevant.\n",
            "\n",
            "Your answers are correct, high-quality, and written by an domain expert. If the provided context does not contain the answer, simply state, \"The provided contexts does not have the answer.\"\n",
            "\n",
            "User question: Why HackerNews is so popular?\n",
            "\n",
            "Contexts:\n",
            "0. Hacker News FAQ\n",
            "\n",
            "Are there rules about submissions and comments?https://news.ycombinator.com/newsguidelines.html\n",
            "How are stories ranked?\n",
            "\n",
            "1. HN gives three features to YC: job ads (see above) and startup launches get placed on the front page, and YC founder names are displayed to other YC alumni in orange.\n",
            "\n",
            "2. It's a way to help you prevent yourself from spending too much time on HN.\n",
            "3. Users should vote for a story because they personally find it intellectually interesting, not because someone has content to promote.\n",
            "4. We don't want anyone to get in trouble from anything they posted to HN.\n",
            "5. Why is A ranked below B even though A has more points and is newer?\n",
            "\n",
            "6. These appear on the front page, but are not stories: they have no vote arrows, points, or comments.\n",
            "7. Other factors affecting rank include user flags, anti-abuse software, software which demotes overheated discussions, account or site weighting, and moderator action.\n",
            "\n",
            "8. http://news.ycombinator.com/formatdoc\n",
            "\n",
            "9. Some votes are dropped by anti-abuse software.\n",
            "\n",
            "10. Roughly, the number of upvotes on their posts minus the number of downvotes.\n",
            "11. If you request many pages quickly, your IP address might get banned.\n",
            "12. The good will of the community is worth more than any story.\n",
            "\n",
            "13. Others still see it.\n",
            "\n",
            "14. But please don't post complaints about paywalls.\n",
            "15. The basic algorithm divides points by a power of the time since a story was submitted.\n",
            "16. It's ok to post stories from sites with paywalls that have workarounds.\n",
            "\n",
            "17. Only one is on the front page at a time.\n",
            "18. See \"How are stories ranked?\" above.\n",
            "\n",
            "19. How can I unban it?\n",
            "\n",
            "20. Another kind of job ad is reserved for YC-funded startups.\n",
            "21. This prevents a race to post it first.\n",
            "\n",
            "22. Click on its timestamp to go to its page, then click 'vouch' at the top.\n",
            "23. Are paywalls ok?\n",
            "\n",
            "24. Are negative stories about YC suppressed on HN?\n",
            "No, we moderate less, not more, when YC or a YC startup is the topic.\n",
            "25. It gives you time to edit your comments before they appear to others.\n",
            "26. Comments in threads are ranked the same way.\n",
            "\n",
            "27. Otherwise we bury reposts as duplicates.\n",
            "\n",
            "28. If you turn it on you'll only be allowed to visit the site for maxvisit minutes at a time, with gaps of minaway minutes in between.\n",
            "29. Show HN is for sharing your personal work and has special rules.\n",
            "\n",
            "30. It's also not in your interest: HN readers are sensitive to this and will detect it, flag it, and use unkind words like 'spam'.\n",
            "\n",
            "31. How is a user's karma calculated?\n",
            "\n",
            "32. What do green usernames mean?\n",
            "\n",
            "33. Users flagged the post as breaking the guidelines or otherwise not belonging on HN.\n",
            "\n",
            "34. Are reposts ok?\n",
            "If a story has not had significant attention in the last year or so, a small number of reposts is ok.\n",
            "35. What's the relationship between YC and HN?\n",
            "Y Combinator owns and funds HN.\n",
            "36. My IP address seems to be banned.\n",
            "37. They remove a submission from your personal view.\n",
            "38. Most job ads are welcome there.\n",
            "39. In my profile, what is noprocrast?\n",
            "\n",
            "40. Please don't post job ads as submissions to HN.\n",
            "\n",
            "41. In my profile, what is delay?\n",
            "\n",
            "42. This is to prevent people from submitting a link with their comments in a privileged position at the top of the page.\n",
            "43. Only an account called whoishiring is allowed to submit the thread itself.\n",
            "44. Email hn@ycombinator.com\n",
            "45. How do I submit a poll?\n",
            "http://news.ycombinator.com/newpoll\n",
            "How do I make a link in a text submission?\n",
            "\n",
            "46. Green indicates a new account.\n",
            "\n",
            "47. A regular \"Who Is Hiring?\" thread appears on the first weekday of each month (or Jan 2).\n",
            "48. Those are off topic.\n",
            "49. However, we care about protecting individual users and take care of privacy requests every day, so if we can help, please email hn@ycombinator.com.\n",
            "\n"
          ]
        }
      ],
      "source": [
        "print(context)\n",
        "print(\"--------------------------------\")\n",
        "print(prompt)"
      ]
    },
    {
      "cell_type": "markdown",
      "metadata": {
        "id": "XSAzTWesqdNt"
      },
      "source": [
        "# Answer Generation"
      ]
    },
    {
      "cell_type": "code",
      "execution_count": 12,
      "metadata": {
        "id": "aCDuV2nCqdNt"
      },
      "outputs": [
        {
          "name": "stdout",
          "output_type": "stream",
          "text": [
            "<think>\n",
            "Okay, I'm trying to figure out why Hacker News is so popular. Let me start by looking at the contexts provided.\n",
            "\n",
            "From context 0, it mentions that Hacker News has rules about submissions and comments, including how stories are ranked. Context 1 says that Y Combinator (YC) gives three features to YC: job ads, startup launches, and founder names displayed in orange. So maybe the connection with YC is a big part.\n",
            "\n",
            "Context 2 suggests it's a way to help users avoid spending too much time on HN, which implies it's useful but can be addictive. Context 3 says users should vote for stories because they find them intellectually interesting, not just to promote something. That makes me think about the community-driven aspect and quality content.\n",
            "\n",
            "Contexts 4 and 49 talk about privacy and protecting individual users, so maybe HN is seen as a trustworthy place. Context 5 asks why one story is ranked below another even if it has more points and is newer, which shows there's an algorithm but it's not perfect.\n",
            "\n",
            "Contexts 6 and 17 mention that some posts are on the front page without votes or comments, which might make them quick reads. Context 7 lists factors affecting rank like user flags, anti-abuse software, account weighting, and moderator actions, so moderation is key here.\n",
            "\n",
            "Contexts 8 and 18 point to documentation, which could help users understand how things work. Context 9 says some votes are dropped by anti-abuse software, indicating they prevent spam or manipulation.\n",
            "\n",
            "Context 10 talks about upvotes minus downvotes affecting rank, which is a basic way to measure story quality and relevance. Context 11 warns about too many requests leading to IP bans, so there's a limit to how much you can engage.\n",
            "\n",
            "Contexts 12 and 30 mention community good will over stories, implying that user behavior matters more than just content. Context 13 shows other factors still see things, maybe referring to how rankings work beyond points.\n",
            "\n",
            "Contexts 14 and 16 allow paywalls as long as there are workarounds, so even with restrictions, HN is flexible. Context 15 explains the ranking algorithm divides points by time since submission, which affects a story's visibility over time.\n",
            "\n",
            "Contexts 19-20 talk about job ads reserved for YC-funded startups and how to post them correctly. Contexts 21, 22, and 45 explain how to submit certain content like polls or job threads, making the platform user-friendly.\n",
            "\n",
            "Contexts 24 and 34 address reposting policies, allowing it under certain conditions to avoid repetition. Context 25 gives a cooling-off period for comments before they appear, preventing rash reactions.\n",
            "\n",
            "Contexts 26 and 27 say comments are ranked similarly and reposts are buried if duplicates, maintaining quality and relevance. Context 28 talks about visit limits to prevent abuse.\n",
            "\n",
            "Context 29 warns against spammy behavior as users can detect it and respond negatively. Context 31 asks about karma calculation, which might be based on contributions or rules followed.\n",
            "\n",
            "Context 32 explains green usernames for new accounts, showing user hierarchy. Contexts 33-35 talk about moderation actions like flagging or repost policies, ensuring content stays relevant.\n",
            "\n",
            "So putting this together, Hacker News is popular because it's community-driven, with high-quality content that people find interesting and useful. It has clear rules but is flexible enough to allow for various types of posts and discussions. The connection with Y Combinator adds credibility and resources, while the moderation and ranking systems ensure content remains engaging without spam or low-quality submissions.\n",
            "</think>\n",
            "\n",
            "Hacker News (HN) is popular due to its community-driven nature, which prioritizes high-quality, intellectually interesting content. Its moderation policies and clear guidelines help maintain a reputable platform, often linked with Y Combinator's credibility. The ranking system, based on upvotes minus downvotes adjusted by time since submission, ensures visibility for engaging stories while managing spam and duplicates. Features like user restrictions to prevent abuse and a cooling-off period for comments enhance the experience, making HN both useful and enjoyable for tech enthusiasts and professionals. Additionally, its flexibility in allowing reposts under certain conditions and handling job ads specifically for YC-funded startups adds to its utility and appeal in the tech community.\n",
            "\n",
            "Answer [0].\n"
          ]
        }
      ],
      "source": [
        "import openai\n",
        "from openai import OpenAI\n",
        "\n",
        "client = OpenAI(\n",
        "    base_url=\"http://localhost:11434/v1\",\n",
        "    api_key = \"sk-deepseek-dummy-key\",    \n",
        ")\n",
        "\n",
        "try:\n",
        "    response = client.chat.completions.create(\n",
        "        model=\"deepseek-r1:8b\",\n",
        "        temperature=0.7,\n",
        "        messages=[\n",
        "            {\"role\": \"system\", \"content\": \"You are a helpful and informative assistant.\"},\n",
        "            {\"role\": \"user\", \"content\": prompt}\n",
        "        ]\n",
        "    )\n",
        "    print(response.choices[0].message.content)\n",
        "except openai.OpenAIError as e:\n",
        "    print(f\"An error occurred: {e}\")\n",
        "    print(\"\\nPlease ensure your Ollama server is running and the model is downloaded.\")\n"
      ]
    },
    {
      "cell_type": "markdown",
      "metadata": {},
      "source": [
        "Check OPEN AI using Deepseek R1"
      ]
    },
    {
      "cell_type": "code",
      "execution_count": null,
      "metadata": {},
      "outputs": [
        {
          "name": "stdout",
          "output_type": "stream",
          "text": [
            "<think>\n",
            "Okay, so I'm trying to understand what \"lazy evaluation\" means in programming. I've heard the term before, maybe in the context of functional programming or something like that. But I'm not entirely sure about it. Let me try to break it down.\n",
            "\n",
            "First, I think evaluation has to do with how expressions are processed by a computer. So when we say \"lazy evaluation,\" does that mean something is being evaluated later than expected? Maybe it's the opposite of eager evaluation. Hmm, I remember hearing that in some languages, like Haskell or Lisp, functions aren't evaluated immediately but when needed.\n",
            "\n",
            "So, if I have a function that depends on another function, under lazy evaluation, the second function isn't computed until the first one actually needs its result. That makes sense because it could save computation time if the result isn't needed right away. For example, in a list comprehension or something where each element is processed conditionally.\n",
            "\n",
            "I think this approach helps with efficiency, especially for large data sets or complex functions. It's like waiting to compute things until you know they're necessary. But then again, there must be some downsides too, maybe making the code harder to follow because you don't see all the computations upfront.\n",
            "\n",
            "Wait, but how does lazy evaluation actually work in practice? Do you have to write special code for it, or do some programming languages do it automatically by default? I think in Haskell, they use this concept a lot with their laziness. So functions and lists are evaluated lazily, meaning if you don't use all the elements of a list, only the ones you need are processed.\n",
            "\n",
            "Let me try to think of an example. Suppose I have a function that retrieves data from a database and processes it. If I want to analyze the data but only for specific conditions, lazy evaluation would mean that only the necessary parts are fetched and processed. That's probably more efficient than fetching everything first, especially if the dataset is huge.\n",
            "\n",
            "But then again, in some cases, you might not know upfront which parts you need. So there could be a trade-off between flexibility and efficiency. If you don't know exactly what you need ahead of time, lazy evaluation might lead to more computations being done later, which could complicate things if the data changes or if certain branches are taken in the program.\n",
            "\n",
            "I also wonder how this relates to concurrency and parallelism. Maybe lazy evaluation can help with making concurrent processing easier because it defers computation until it's needed. But I'm not entirely sure about that connection.\n",
            "\n",
            "Another thought: in programming languages, especially functional ones, immutability is often paired with laziness. Since functions don't modify state, maybe they can be evaluated lazily without worrying about side effects. That makes sense because if a function doesn't change anything, you don't have to recompute it after a change.\n",
            "\n",
            "But what happens when functions do have side effects? Like, if a function prints something or modifies a file. If that's the case, does lazy evaluation still work correctly? Or would it cause issues where the side effect is only triggered once the function is actually evaluated?\n",
            "\n",
            "And in terms of performance optimization, how significant is the impact of lazy evaluation? For simple cases, maybe not much difference, but for more complex or data-heavy applications, it could save a lot of processing time.\n",
            "\n",
            "I should also consider that some languages implement strict evaluation by default, like JavaScript. So switching to a language with lazy evaluation would require changes in programming style. Like, in Haskell, you might have to use certain constructs that enforce laziness, which could be a hurdle for someone used to more eager evaluation.\n",
            "\n",
            "So, in summary, lazy evaluation delays the processing of expressions until they're necessary. It's useful for efficiency but can complicate code readability and may not always be suitable when side effects are involved. It's a feature that functional programming languages use to leverage flexibility and performance benefits.\n",
            "</think>\n",
            "\n",
            "Lazy evaluation is a programming concept where expressions or functions are processed (or evaluated) only when they are needed, rather than being computed immediately. This approach can enhance efficiency by deferring computation to the point of actual usage, which is particularly beneficial in large datasets or complex computations.\n",
            "\n",
            "### Key Points:\n",
            "\n",
            "1. **Definition and Purpose**: \n",
            "   - Lazy evaluation delays the execution of expressions until their results are required. This is opposite to eager evaluation, where computations are carried out as soon as they are defined.\n",
            "   \n",
            "2. **Benefits**:\n",
            "   - **Efficiency**: Reduces unnecessary computation, saving processing time, especially in data-heavy applications.\n",
            "   - **Flexibility**: Allows for more efficient use of resources by focusing only on necessary computations.\n",
            "\n",
            "3. **Examples and Usage**:\n",
            "   - In functional programming languages like Haskell or Lisp, functions and lists are evaluated lazily. This means that only the elements or values needed for a specific computation are processed, which can save time and memory.\n",
            "   - Example: When processing a list with conditionals, only the elements meeting the conditions are accessed.\n",
            "\n",
            "4. **Considerations**:\n",
            "   - **Code Readability**: The delayed evaluation can make code harder to understand, as the exact order of computations is not evident upfront.\n",
            "   - **Side Effects**: If functions have side effects (e.g., modifying state or printing output), lazy evaluation might lead to unexpected behavior since these effects are deferred until the function is actually called.\n",
            "\n",
            "5. **Concurrency and Parallelism**:\n",
            "   - Lazy evaluation can facilitate concurrent processing by deferring computations, potentially making parallel tasks more efficient as they only execute when needed.\n",
            "\n",
            "6. **Comparison with Strict Evaluation**:\n",
            "   - In languages like JavaScript, which follow strict evaluation, all expressions are computed immediately. Switching to a language with lazy evaluation (like Haskell) requires changes in programming style and constructs that enforce laziness.\n",
            "\n",
            "In summary, lazy evaluation is a powerful tool for optimizing performance by delaying computations until they are necessary, offering significant benefits in efficiency but requiring careful consideration of code clarity and potential side effects.\n"
          ]
        }
      ],
      "source": [
        "import openai\n",
        "import os\n",
        "\n",
        "# --- New syntax for openai library v1.0.0+ ---\n",
        "# Import the OpenAI client`` class\n",
        "from openai import OpenAI\n",
        "\n",
        "# Create an instance of the OpenAI client.\n",
        "# This client object will handle the API calls.\n",
        "# Set the base_url to the correct HTTP endpoint for Ollama.\n",
        "# Note that it's 'http' not 'https'\n",
        "client = OpenAI(\n",
        "    base_url=\"http://localhost:11434/v1\",\n",
        "    api_key = \"sk-deepseek-dummy-key\",    \n",
        ")\n",
        "\n",
        "# Define a sample prompt for the model.\n",
        "prompt = \"Explain the concept of 'lazy evaluation' in programming.\"\n",
        "\n",
        "try:\n",
        "    # Use the client instance to make the API call with the new syntax.\n",
        "    # The method is now `client.chat.completions.create`.\n",
        "    # The arguments are largely the same.\n",
        "    response = client.chat.completions.create(\n",
        "        model=\"deepseek-r1:8b\",\n",
        "        temperature=0.7,\n",
        "        messages=[\n",
        "            {\"role\": \"system\", \"content\": \"You are a helpful and informative assistant.\"},\n",
        "            {\"role\": \"user\", \"content\": prompt}\n",
        "        ]\n",
        "    )\n",
        "\n",
        "    # Access the content from the response object. The syntax for this also changed\n",
        "    # from a dictionary-like access to a more object-oriented one.\n",
        "    print(response.choices[0].message.content)\n",
        "\n",
        "except openai.OpenAIError as e:\n",
        "    # The exception class has changed, but you can still catch it.\n",
        "    print(f\"An error occurred: {e}\")\n",
        "    print(\"\\nPlease ensure your Ollama server is running and the model is downloaded.\")\n"
      ]
    },
    {
      "cell_type": "markdown",
      "metadata": {},
      "source": []
    }
  ],
  "metadata": {
    "colab": {
      "provenance": []
    },
    "kernelspec": {
      "display_name": ".venv",
      "language": "python",
      "name": "python3"
    },
    "language_info": {
      "codemirror_mode": {
        "name": "ipython",
        "version": 3
      },
      "file_extension": ".py",
      "mimetype": "text/x-python",
      "name": "python",
      "nbconvert_exporter": "python",
      "pygments_lexer": "ipython3",
      "version": "3.9.6"
    },
    "orig_nbformat": 4
  },
  "nbformat": 4,
  "nbformat_minor": 0
}
